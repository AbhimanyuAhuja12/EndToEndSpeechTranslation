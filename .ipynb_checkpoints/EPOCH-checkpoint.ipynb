{
 "cells": [
  {
   "cell_type": "markdown",
   "id": "e22299b7",
   "metadata": {},
   "source": [
    "## Preparing Parallel Dataset"
   ]
  },
  {
   "cell_type": "code",
   "execution_count": null,
   "id": "3c4ec843",
   "metadata": {},
   "outputs": [],
   "source": [
    "import os\n",
    "from scipy.io import wavfile\n",
    "\n",
    "def folder_to_wav_dict(folder_path):\n",
    "    data_dict = {}\n",
    "    for filename in os.listdir(folder_path):\n",
    "        file_path = os.path.join(folder_path, filename)\n",
    "        if filename.endswith('.wav') and os.path.isfile(file_path):\n",
    "            sample_rate, data = wavfile.read(file_path)\n",
    "            data_dict[filename] = {'sample_rate': sample_rate, 'data': data}\n",
    "    return data_dict\n",
    "\n",
    "# Paths to the four folders\n",
    "source_folder_path = 'Source'\n",
    "target_folder_path = 'target'\n",
    "sourcepred_folder_path = 'sourcepred'\n",
    "targetpred_folder_path = 'targetpred'\n",
    "\n",
    "# Convert each folder to a dictionary\n",
    "source_dict = folder_to_wav_dict(source_folder_path)\n",
    "target_dict = folder_to_wav_dict(target_folder_path)\n",
    "sourcepred_dict = folder_to_wav_dict(sourcepred_folder_path)\n",
    "targetpred_dict = folder_to_wav_dict(targetpred_folder_path)\n",
    "\n",
    "# Now you have four dictionaries, each containing the contents of one of the four folders\n"
   ]
  },
  {
   "cell_type": "markdown",
   "id": "8d62c6c3",
   "metadata": {},
   "source": []
  }
 ],
 "metadata": {
  "kernelspec": {
   "display_name": "Python 3 (ipykernel)",
   "language": "python",
   "name": "python3"
  },
  "language_info": {
   "codemirror_mode": {
    "name": "ipython",
    "version": 3
   },
   "file_extension": ".py",
   "mimetype": "text/x-python",
   "name": "python",
   "nbconvert_exporter": "python",
   "pygments_lexer": "ipython3",
   "version": "3.11.5"
  }
 },
 "nbformat": 4,
 "nbformat_minor": 5
}
